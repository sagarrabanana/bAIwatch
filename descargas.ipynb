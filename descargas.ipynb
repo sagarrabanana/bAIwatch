{
  "nbformat": 4,
  "nbformat_minor": 0,
  "metadata": {
    "colab": {
      "name": "descargas.ipynb",
      "provenance": []
    },
    "kernelspec": {
      "display_name": "Python 3",
      "name": "python3"
    }
  },
  "cells": [
    {
      "cell_type": "code",
      "metadata": {
        "colab": {
          "base_uri": "https://localhost:8080/"
        },
        "id": "YUapjCJxZrrh",
        "outputId": "9ed57079-31b1-488d-f94f-a6ff38b718c6"
      },
      "source": [
        "from google.colab import drive\n",
        "drive.mount('/content/gdrive')"
      ],
      "execution_count": null,
      "outputs": []
    },
    {
      "cell_type": "code",
      "metadata": {
        "colab": {
          "base_uri": "https://localhost:8080/"
        },
        "id": "iQtuUR6madui",
        "outputId": "853693df-483c-4222-d035-b917fd424c96"
      },
      "source": [
        "import time\n",
        "import datetime\n",
        "import urllib.request\n",
        "import socket\n",
        "import matplotlib.pyplot as plt\n",
        "socket.setdefaulttimeout(30)\n",
        "\n",
        "\n",
        "\n",
        "#while True:\n",
        "while (int(datetime.datetime.now().strftime(\"%H\"))>5 and int(datetime.datetime.now().strftime(\"%H\"))<17): \n",
        "  # setting filename and image URL\n",
        "  try:\n",
        "    print('dentro del try')\n",
        "    name=str(datetime.datetime.now())\n",
        "    filename = '/content/gdrive/MyDrive/Dataset/'+name+'.jpg' #here goes the path to your dataset folder on your google drive\n",
        "    image_url = \"http://212.8.113.121:8081/jpg/1/image.jpg\"\n",
        "    urllib.request.urlretrieve(image_url, filename)\n",
        "    print('imagen '+name+' descargada.')\n",
        "\n",
        "    #####\n",
        "    imgBig=image.load_img(filename)\n",
        "    plt.imshow(imgBig)\n",
        "    plt.show()\n",
        "\n",
        "\n",
        "    ####\n",
        "\n",
        "\n",
        "    print('esperamos...')\n",
        "    time.sleep(30)\n",
        "  except:\n",
        "    print('hay algun problemilla, esperamos medio minuto y reintentamos...')\n",
        "    time.sleep(30)"
      ],
      "execution_count": null,
      "outputs": []
    }
  ]
}